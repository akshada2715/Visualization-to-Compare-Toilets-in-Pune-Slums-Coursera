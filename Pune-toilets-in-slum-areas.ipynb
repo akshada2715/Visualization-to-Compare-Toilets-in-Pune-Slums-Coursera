{
 "cells": [
  {
   "cell_type": "code",
   "execution_count": null,
   "metadata": {
    "collapsed": false,
    "jupyter": {
     "outputs_hidden": false
    }
   },
   "outputs": [],
   "source": [
    "#The project takes in two datasets, the slum data and toilet data for pune city. \n",
    "# The aim of the project is to create a visualization that will help us compare the toilets available in slum areas\n",
    "# in Pune city. \n",
    "# The question answered by this comparision will be : 'Are there enough public toilets in the slum areas?'\n",
    "import pandas as pd\n",
    "import numpy as np\n",
    "%matplotlib notebook\n",
    "import matplotlib.pyplot as plt\n",
    "import seaborn as sns\n",
    "\n",
    "slumData = pd.read_csv(\"Pune-D25-Slum-Housing-and-Population-data_1.csv\")\n",
    "toiletData = pd.read_csv(\"Pune-D11-PublicToiletsData_1.csv\")\n",
    "toiletData.columns"
   ]
  },
  {
   "cell_type": "code",
   "execution_count": null,
   "metadata": {
    "collapsed": false,
    "jupyter": {
     "outputs_hidden": false
    }
   },
   "outputs": [],
   "source": [
    "slumData"
   ]
  },
  {
   "cell_type": "code",
   "execution_count": null,
   "metadata": {
    "collapsed": false,
    "jupyter": {
     "outputs_hidden": false
    }
   },
   "outputs": [],
   "source": [
    "#preparing the data \n",
    "slumData = slumData[['Ward Name','Ward No.','No. of Recognised Slums',\n",
    "       'Slum Population - Total', 'Slum Population - Male',\n",
    "       'Slum Population - Female', 'Slum Population - Child (0-6)']]\n",
    "slumData"
   ]
  },
  {
   "cell_type": "code",
   "execution_count": null,
   "metadata": {
    "collapsed": false,
    "jupyter": {
     "outputs_hidden": false
    }
   },
   "outputs": [],
   "source": [
    "#preparing the data\n",
    "toiletData = toiletData[['Ward Name', 'Ward No.',\n",
    "       'Total number of households (HH)',\n",
    "       'Number of Households with toilets',\n",
    "       'Number of free public toilets - Female',\n",
    "       'Number of free public toilets - Male']]\n",
    "toiletData"
   ]
  },
  {
   "cell_type": "code",
   "execution_count": null,
   "metadata": {
    "collapsed": false,
    "jupyter": {
     "outputs_hidden": false
    }
   },
   "outputs": [],
   "source": [
    "#Calculating the number of households without toilets for every ward. \n",
    "df = slumData.merge(toiletData, on=['Ward Name','Ward No.'], how=\"left\")\n",
    "indices = df.index.tolist()\n",
    "df['HH without toilets'] = df['Total number of households (HH)']-df['Number of Households with toilets']\n",
    "df"
   ]
  },
  {
   "cell_type": "code",
   "execution_count": null,
   "metadata": {
    "collapsed": false,
    "jupyter": {
     "outputs_hidden": false
    }
   },
   "outputs": [],
   "source": [
    "#calculating the ratio 'Toilets per household'\n",
    "df['Toilets per Household'] = df['Number of free public toilets - Female'] / df['HH without toilets']\n",
    "df = df.rename(columns={'Number of free public toilets - Female':'Number of free public toilets'})\n",
    "df"
   ]
  },
  {
   "cell_type": "code",
   "execution_count": null,
   "metadata": {
    "collapsed": false,
    "jupyter": {
     "outputs_hidden": false
    }
   },
   "outputs": [],
   "source": [
    "\n",
    "import matplotlib.pyplot as plt \n",
    "import seaborn as sns\n",
    "import matplotlib.gridspec as gridspec\n",
    "\n",
    "#plotting the required grid\n",
    "fig = plt.figure(dpi=80, figsize=(12,8))\n",
    "gspec = gridspec.GridSpec(3,3)\n",
    "top = fig.add_subplot(gspec[0,0:2])\n",
    "middle = fig.add_subplot(gspec[1,0:2])\n",
    "bottom = fig.add_subplot(gspec[2,0:2])\n",
    "ax  = fig.add_subplot(gspec[0:,2])\n",
    "\n",
    "#creating the table for ward no. and ward name\n",
    "table_data= [[n] for n in df['Ward Name'].tolist()]\n",
    "colwidth = [0.9 for n in range(1,15)]\n",
    "rowlabel = [n for n in range(1,15)]\n",
    "colours =[['white'] for n in range(0,14)]\n",
    "colours[7]=['red']\n",
    "table = ax.table(cellText=table_data, loc='center right' , colWidths = colwidth, rowLabels = rowlabel, colLabels= ['Ward Name'],\n",
    "                fontsize=14, colColours=['yellow'], cellColours = colours)\n",
    "table.set_fontsize(14)\n",
    "table.scale(1,2)\n",
    "table.set_alpha(1.4)\n",
    "ax.axis('off')\n",
    "\n",
    "#plotting the top graph that shows the comparison between total number of households and households without toilets.\n",
    "top.plot(df['Ward No.'],df['Total number of households (HH)'])\n",
    "top.plot(df['Ward No.'],df['Number of Households with toilets'],'--', color='red')\n",
    "top.set_ylabel(\"Number of Households\", fontsize=14)\n",
    "top.legend(loc = 'lower center')\n",
    "\n",
    "#plotting the second graph that shows the comparison between the free public toilets and households without toilets.\n",
    "middle.plot(df['Ward No.'],df['Number of free public toilets'],'--',color='green')\n",
    "middle.plot(df['Ward No.'],df['HH without toilets'],color='yellow')\n",
    "middle.legend(loc='lower center')\n",
    "\n",
    "#plotting the final graph that is just a ratio 'Toilets per Household' for every ward number. \n",
    "bottom.bar(df['Ward No.'],df['Toilets per Household'], color='red')\n",
    "bottom.set_xlabel(\"Ward No.\", fontsize = 14)\n",
    "bottom.set_ylabel(\"Toilets per Household\", fontsize=15)\n",
    "fig.suptitle(\"Toilets in Slum Areas - Pune City\", fontsize=20)\n",
    "fig.tight_layout(rect=[0, 0.03, 1, 0.95])\n",
    "\n",
    "plt.show();"
   ]
  },
  {
   "cell_type": "code",
   "execution_count": null,
   "metadata": {},
   "outputs": [],
   "source": []
  }
 ],
 "metadata": {
  "kernelspec": {
   "display_name": "Python 3",
   "language": "python",
   "name": "python3"
  },
  "language_info": {
   "codemirror_mode": {
    "name": "ipython",
    "version": 3
   },
   "file_extension": ".py",
   "mimetype": "text/x-python",
   "name": "python",
   "nbconvert_exporter": "python",
   "pygments_lexer": "ipython3",
   "version": "3.5.2"
  }
 },
 "nbformat": 4,
 "nbformat_minor": 4
}
